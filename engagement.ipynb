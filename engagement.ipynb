{
 "cells": [
  {
   "cell_type": "code",
   "execution_count": 1,
   "metadata": {},
   "outputs": [],
   "source": [
    "import numpy as np\n",
    "import tensorflow as tf\n",
    "import tensorflow.keras.layers as kl\n",
    "import tensorflow.keras.losses as klo"
   ]
  },
  {
   "cell_type": "code",
   "execution_count": 2,
   "metadata": {},
   "outputs": [],
   "source": [
    "from tensorflow.keras.applications.mobilenet_v2 import MobileNetV2"
   ]
  },
  {
   "cell_type": "code",
   "execution_count": 3,
   "metadata": {},
   "outputs": [],
   "source": [
    "from daisee_data_preprocessing import DataPreprocessing\n",
    "import datetime\n",
    "import os\n",
    "from tqdm import tqdm"
   ]
  },
  {
   "cell_type": "code",
   "execution_count": 4,
   "metadata": {},
   "outputs": [],
   "source": [
    "BATCH_SIZE = 64\n",
    "LR = 0.005\n",
    "EPOCHS = 1000\n",
    "use_pretrained = True\n",
    "pretrained_name = 'mobilenet'"
   ]
  },
  {
   "cell_type": "code",
   "execution_count": 5,
   "metadata": {},
   "outputs": [],
   "source": [
    "current_time = datetime.datetime.now().strftime(\"%Y%m%d-%H%M%S\")\n",
    "checkpoint_dir = 'checkpoints/'\n",
    "log_dir = 'logs/'\n",
    "if use_pretrained:\n",
    "    checkpoint_dir += pretrained_name\n",
    "    log_dir += pretrained_name\n",
    "else:\n",
    "    checkpoint_dir += 'scratch/'\n",
    "    log_dir += 'scratch/'"
   ]
  },
  {
   "cell_type": "code",
   "execution_count": 6,
   "metadata": {},
   "outputs": [],
   "source": [
    "physical_devices = tf.config.experimental.list_physical_devices('GPU')\n",
    "if len(physical_devices) > 0:\n",
    "    tf.config.experimental.set_memory_growth(physical_devices[0], True)"
   ]
  },
  {
   "cell_type": "code",
   "execution_count": 7,
   "metadata": {},
   "outputs": [],
   "source": [
    "preprocessing_class = DataPreprocessing()"
   ]
  },
  {
   "cell_type": "code",
   "execution_count": 8,
   "metadata": {},
   "outputs": [],
   "source": [
    "# Open train set\n",
    "tfrecord_path = 'tfrecords/train.tfrecords'\n",
    "train_set = tf.data.TFRecordDataset(tfrecord_path)\n",
    "# Parse the record into tensors with map.\n",
    "train_set = train_set.map(preprocessing_class.decode)\n",
    "train_set = train_set.shuffle(1)\n",
    "train_set = train_set.batch(BATCH_SIZE)"
   ]
  },
  {
   "cell_type": "code",
   "execution_count": 9,
   "metadata": {},
   "outputs": [],
   "source": [
    "# Open test set\n",
    "tfrecord_path = 'tfrecords/test.tfrecords'\n",
    "test_set = tf.data.TFRecordDataset(tfrecord_path)\n",
    "# Parse the record into tensors with map.\n",
    "test_set = test_set.map(preprocessing_class.decode)\n",
    "test_set = test_set.shuffle(1)\n",
    "test_set = test_set.batch(BATCH_SIZE)"
   ]
  },
  {
   "cell_type": "code",
   "execution_count": 10,
   "metadata": {},
   "outputs": [],
   "source": [
    "# Open val set\n",
    "tfrecord_path = 'tfrecords/val.tfrecords'\n",
    "val_set = tf.data.TFRecordDataset(tfrecord_path)\n",
    "# Parse the record into tensors with map.\n",
    "val_set = val_set.map(preprocessing_class.decode)\n",
    "val_set = val_set.shuffle(1)\n",
    "val_set = val_set.batch(BATCH_SIZE)"
   ]
  },
  {
   "cell_type": "code",
   "execution_count": 11,
   "metadata": {},
   "outputs": [],
   "source": [
    "def create_log_dir(log_dir, checkpoint_dir):\n",
    "    if not os.path.exists(log_dir):\n",
    "        os.mkdir(log_dir)\n",
    "    if not os.path.exists(checkpoint_dir):\n",
    "        os.mkdir(checkpoint_dir)"
   ]
  },
  {
   "cell_type": "code",
   "execution_count": 12,
   "metadata": {},
   "outputs": [],
   "source": [
    "def network(use_pretrained=True):\n",
    "    model = tf.keras.Sequential()\n",
    "    model.add(kl.InputLayer(input_shape=(224, 224, 3)))\n",
    "    if use_pretrained:\n",
    "        if pretrained_name == 'vgg':\n",
    "            vgg = VGG16(weights='imagenet', input_shape=(224, 224, 3), include_top=False)\n",
    "            vgg.trainable = False\n",
    "            model.add(vgg)\n",
    "        if pretrained_name == 'mobilenet':\n",
    "            mobnet = MobileNetV2(weights='imagenet', input_shape=(224, 224, 3), include_top=False)\n",
    "            mobnet.trainable = False\n",
    "            model.add(mobnet)\n",
    "    else:\n",
    "        # First conv block\n",
    "        model.add(kl.Conv2D(filters = 96, kernel_size=7, padding='same', strides=2))\n",
    "        model.add(tf.keras.layers.ReLU())\n",
    "        model.add(kl.MaxPooling2D(pool_size=(3, 3)))\n",
    "        # Second conv block\n",
    "        model.add(kl.Conv2D(filters = 256, kernel_size=5, padding='same', strides=1))\n",
    "        model.add(tf.keras.layers.ReLU())\n",
    "        model.add(kl.MaxPooling2D(pool_size=(2, 2)))\n",
    "        # Third-Fourth-Fifth conv block\n",
    "        for i in range(3):\n",
    "            model.add(kl.Conv2D(filters = 512, kernel_size=3, padding='same', strides=1))\n",
    "            model.add(tf.keras.layers.ReLU())\n",
    "        model.add(kl.MaxPooling2D(pool_size=(3, 3)))\n",
    "    # Flatten\n",
    "    model.add(kl.Flatten())\n",
    "    # First FC \n",
    "    model.add(kl.Dense(1024))\n",
    "    # Second Fc\n",
    "    model.add(kl.Dense(256))\n",
    "    # Third FC\n",
    "    model.add(kl.Dense(4))\n",
    "    # Softmax at the end\n",
    "    model.add(kl.Softmax())\n",
    "    \n",
    "    return model"
   ]
  },
  {
   "cell_type": "code",
   "execution_count": 13,
   "metadata": {},
   "outputs": [
    {
     "data": {
      "text/plain": [
       "'\\nhttps://keras.io/guides/writing_a_training_loop_from_scratch/\\nCompile into a static graph any function that take tensors as input to apply global performance optimizations.\\n'"
      ]
     },
     "execution_count": 13,
     "metadata": {},
     "output_type": "execute_result"
    }
   ],
   "source": [
    "'''\n",
    "https://keras.io/guides/writing_a_training_loop_from_scratch/\n",
    "Compile into a static graph any function that take tensors as input to apply global performance optimizations.\n",
    "'''"
   ]
  },
  {
   "cell_type": "code",
   "execution_count": 14,
   "metadata": {},
   "outputs": [],
   "source": [
    "@tf.function\n",
    "def train_step(x, y):\n",
    "    with tf.GradientTape() as tape:\n",
    "        logits = model(x)\n",
    "        loss_value = loss_fn(y, logits)\n",
    "    grads = tape.gradient(loss_value, model.trainable_weights)\n",
    "    optimizer.apply_gradients(zip(grads, model.trainable_weights))\n",
    "    # Track progress\n",
    "    train_loss_avg.update_state(loss_value)\n",
    "    train_accuracy.update_state(y, logits)\n",
    "    return loss_value"
   ]
  },
  {
   "cell_type": "code",
   "execution_count": 15,
   "metadata": {},
   "outputs": [],
   "source": [
    "@tf.function\n",
    "def test_step(x, y, set_name):\n",
    "    logits = model(x)\n",
    "    if set_name == 'val':\n",
    "        val_accuracy.update_state(y, logits)\n",
    "    else:\n",
    "        test_accuracy.update_state(y, logits)"
   ]
  },
  {
   "cell_type": "code",
   "execution_count": 16,
   "metadata": {},
   "outputs": [],
   "source": [
    "loss_fn = tf.keras.losses.CategoricalCrossentropy()\n",
    "optimizer = tf.keras.optimizers.Adam(learning_rate=LR)\n",
    "create_log_dir(log_dir, checkpoint_dir)\n",
    "train_summary_writer = tf.summary.create_file_writer(log_dir)"
   ]
  },
  {
   "cell_type": "code",
   "execution_count": 17,
   "metadata": {},
   "outputs": [],
   "source": [
    "train_loss_avg = tf.keras.metrics.Mean()\n",
    "train_accuracy = tf.keras.metrics.CategoricalAccuracy()\n",
    "val_accuracy = tf.keras.metrics.CategoricalAccuracy()\n",
    "test_accuracy = tf.keras.metrics.CategoricalAccuracy()"
   ]
  },
  {
   "cell_type": "code",
   "execution_count": 18,
   "metadata": {},
   "outputs": [
    {
     "name": "stdout",
     "output_type": "stream",
     "text": [
      "WARNING:tensorflow:No training configuration found in the save file, so the model was *not* compiled. Compile it manually.\n"
     ]
    }
   ],
   "source": [
    "last_models = os.listdir(checkpoint_dir)\n",
    "if last_models != []:\n",
    "    last_model_path = checkpoint_dir + '/'+  last_models[-1]\n",
    "    first_epoch = int(last_models[-1].split(\"_\")[1])\n",
    "    model = tf.keras.models.load_model(last_model_path)\n",
    "else:\n",
    "    first_epoch = 0\n",
    "    model = network()"
   ]
  },
  {
   "cell_type": "code",
   "execution_count": 19,
   "metadata": {
    "scrolled": true
   },
   "outputs": [
    {
     "name": "stderr",
     "output_type": "stream",
     "text": [
      " 98%|█████████▊| 252/256 [00:45<00:00,  5.57it/s]\n",
      " 98%|█████████▊| 252/256 [00:42<00:00,  5.91it/s]\n",
      " 98%|█████████▊| 252/256 [00:45<00:00,  5.57it/s]\n",
      " 98%|█████████▊| 252/256 [00:38<00:00,  6.49it/s]\n",
      " 98%|█████████▊| 252/256 [00:42<00:00,  5.87it/s]\n",
      " 98%|█████████▊| 252/256 [00:43<00:00,  5.73it/s]\n",
      " 98%|█████████▊| 252/256 [00:46<00:00,  5.37it/s]\n",
      " 98%|█████████▊| 252/256 [00:45<00:00,  5.50it/s]\n",
      " 98%|█████████▊| 252/256 [00:43<00:00,  5.83it/s]\n",
      " 98%|█████████▊| 252/256 [00:41<00:00,  6.11it/s]\n",
      " 98%|█████████▊| 252/256 [00:42<00:00,  5.89it/s]\n",
      " 98%|█████████▊| 252/256 [00:41<00:00,  6.10it/s]\n",
      " 98%|█████████▊| 252/256 [00:38<00:00,  6.48it/s]\n",
      " 98%|█████████▊| 252/256 [00:38<00:00,  6.63it/s]\n",
      " 98%|█████████▊| 252/256 [00:38<00:00,  6.54it/s]\n",
      " 98%|█████████▊| 252/256 [00:41<00:00,  6.01it/s]\n",
      " 98%|█████████▊| 252/256 [00:41<00:00,  6.08it/s]\n",
      " 98%|█████████▊| 252/256 [00:41<00:00,  6.09it/s]\n",
      " 98%|█████████▊| 252/256 [00:38<00:00,  6.51it/s]\n",
      " 98%|█████████▊| 252/256 [00:41<00:00,  6.09it/s]\n",
      " 98%|█████████▊| 252/256 [00:36<00:00,  6.98it/s]\n",
      " 98%|█████████▊| 252/256 [00:36<00:00,  6.98it/s]\n",
      " 98%|█████████▊| 252/256 [00:36<00:00,  6.98it/s]\n",
      " 98%|█████████▊| 252/256 [00:38<00:00,  6.47it/s]\n",
      " 98%|█████████▊| 252/256 [00:36<00:00,  6.98it/s]\n",
      " 98%|█████████▊| 252/256 [00:36<00:00,  6.98it/s]\n",
      " 98%|█████████▊| 252/256 [00:36<00:00,  6.98it/s]\n",
      " 98%|█████████▊| 252/256 [00:36<00:00,  6.98it/s]\n",
      " 98%|█████████▊| 252/256 [00:36<00:00,  6.98it/s]\n",
      " 98%|█████████▊| 252/256 [00:36<00:00,  6.98it/s]\n",
      " 98%|█████████▊| 252/256 [00:36<00:00,  6.98it/s]\n",
      " 98%|█████████▊| 252/256 [00:36<00:00,  6.98it/s]\n",
      " 98%|█████████▊| 252/256 [00:36<00:00,  6.98it/s]\n",
      " 98%|█████████▊| 252/256 [00:36<00:00,  6.98it/s]\n",
      " 98%|█████████▊| 252/256 [00:36<00:00,  6.98it/s]\n",
      " 98%|█████████▊| 252/256 [00:36<00:00,  6.98it/s]\n",
      " 98%|█████████▊| 252/256 [00:36<00:00,  6.98it/s]\n",
      " 98%|█████████▊| 252/256 [00:36<00:00,  6.98it/s]\n",
      " 98%|█████████▊| 252/256 [00:36<00:00,  6.98it/s]\n",
      " 98%|█████████▊| 252/256 [00:36<00:00,  6.98it/s]\n",
      " 98%|█████████▊| 252/256 [00:36<00:00,  6.98it/s]\n",
      " 98%|█████████▊| 252/256 [00:36<00:00,  6.98it/s]\n",
      " 98%|█████████▊| 252/256 [00:36<00:00,  6.98it/s]\n",
      " 98%|█████████▊| 252/256 [00:36<00:00,  6.98it/s]\n",
      " 98%|█████████▊| 252/256 [00:36<00:00,  6.98it/s]\n",
      " 98%|█████████▊| 252/256 [00:36<00:00,  6.98it/s]\n",
      " 98%|█████████▊| 252/256 [00:36<00:00,  6.98it/s]\n",
      " 98%|█████████▊| 252/256 [00:36<00:00,  6.98it/s]\n",
      " 98%|█████████▊| 252/256 [00:36<00:00,  6.98it/s]\n",
      " 98%|█████████▊| 252/256 [00:36<00:00,  6.98it/s]\n",
      " 98%|█████████▊| 252/256 [00:36<00:00,  6.98it/s]\n",
      " 98%|█████████▊| 252/256 [00:36<00:00,  6.98it/s]\n",
      " 98%|█████████▊| 252/256 [00:36<00:00,  6.98it/s]\n",
      " 98%|█████████▊| 252/256 [00:36<00:00,  6.98it/s]\n",
      " 98%|█████████▊| 252/256 [00:36<00:00,  6.98it/s]\n",
      " 98%|█████████▊| 252/256 [00:36<00:00,  6.99it/s]\n",
      " 98%|█████████▊| 252/256 [00:36<00:00,  6.98it/s]\n",
      " 98%|█████████▊| 252/256 [00:36<00:00,  6.99it/s]\n",
      " 98%|█████████▊| 252/256 [00:36<00:00,  6.98it/s]\n",
      " 98%|█████████▊| 252/256 [00:36<00:00,  6.98it/s]\n",
      " 98%|█████████▊| 252/256 [00:36<00:00,  6.98it/s]\n",
      " 98%|█████████▊| 252/256 [00:36<00:00,  6.98it/s]\n",
      " 98%|█████████▊| 252/256 [00:36<00:00,  6.98it/s]\n",
      " 98%|█████████▊| 252/256 [00:36<00:00,  6.98it/s]\n",
      " 98%|█████████▊| 252/256 [00:36<00:00,  6.84it/s]\n",
      " 98%|█████████▊| 252/256 [00:38<00:00,  6.51it/s]\n",
      " 98%|█████████▊| 252/256 [00:36<00:00,  6.98it/s]\n",
      " 98%|█████████▊| 252/256 [00:36<00:00,  6.98it/s]\n",
      " 98%|█████████▊| 252/256 [00:36<00:00,  6.98it/s]\n",
      " 98%|█████████▊| 252/256 [00:36<00:00,  6.98it/s]\n",
      " 98%|█████████▊| 252/256 [00:36<00:00,  6.99it/s]\n",
      " 98%|█████████▊| 252/256 [00:36<00:00,  6.98it/s]\n",
      " 98%|█████████▊| 252/256 [00:36<00:00,  6.98it/s]\n",
      " 98%|█████████▊| 252/256 [00:36<00:00,  6.99it/s]\n",
      " 98%|█████████▊| 252/256 [00:36<00:00,  6.98it/s]\n",
      " 98%|█████████▊| 252/256 [00:36<00:00,  6.98it/s]\n",
      " 98%|█████████▊| 252/256 [00:36<00:00,  6.98it/s]\n",
      " 98%|█████████▊| 252/256 [00:36<00:00,  6.98it/s]\n",
      " 98%|█████████▊| 252/256 [00:36<00:00,  6.98it/s]\n",
      " 98%|█████████▊| 252/256 [00:36<00:00,  6.98it/s]\n",
      " 98%|█████████▊| 252/256 [00:36<00:00,  6.99it/s]\n",
      " 98%|█████████▊| 252/256 [00:36<00:00,  6.98it/s]\n",
      " 98%|█████████▊| 252/256 [00:36<00:00,  6.98it/s]\n",
      " 98%|█████████▊| 252/256 [00:36<00:00,  6.98it/s]\n",
      " 98%|█████████▊| 252/256 [00:36<00:00,  6.99it/s]\n",
      " 98%|█████████▊| 252/256 [00:36<00:00,  6.98it/s]\n",
      " 98%|█████████▊| 252/256 [00:36<00:00,  6.99it/s]\n",
      " 98%|█████████▊| 252/256 [00:36<00:00,  6.98it/s]\n",
      " 98%|█████████▊| 252/256 [00:36<00:00,  6.98it/s]\n",
      " 98%|█████████▊| 252/256 [00:36<00:00,  6.98it/s]\n",
      " 98%|█████████▊| 252/256 [00:36<00:00,  6.98it/s]\n",
      " 98%|█████████▊| 252/256 [00:36<00:00,  6.98it/s]\n",
      " 98%|█████████▊| 252/256 [00:36<00:00,  6.98it/s]\n",
      " 98%|█████████▊| 252/256 [00:36<00:00,  6.98it/s]\n",
      " 98%|█████████▊| 252/256 [00:36<00:00,  6.98it/s]\n",
      " 98%|█████████▊| 252/256 [00:36<00:00,  6.98it/s]\n",
      " 98%|█████████▊| 252/256 [00:36<00:00,  6.99it/s]\n",
      " 98%|█████████▊| 252/256 [00:36<00:00,  6.99it/s]\n",
      " 98%|█████████▊| 252/256 [00:39<00:00,  6.41it/s]\n",
      " 98%|█████████▊| 252/256 [00:36<00:00,  6.89it/s]\n",
      " 98%|█████████▊| 252/256 [00:36<00:00,  6.98it/s]\n",
      " 98%|█████████▊| 252/256 [00:36<00:00,  6.98it/s]\n",
      " 98%|█████████▊| 252/256 [00:36<00:00,  6.98it/s]\n",
      " 98%|█████████▊| 252/256 [00:36<00:00,  6.98it/s]\n",
      " 98%|█████████▊| 252/256 [00:36<00:00,  6.98it/s]\n",
      " 98%|█████████▊| 252/256 [00:36<00:00,  6.98it/s]\n",
      " 98%|█████████▊| 252/256 [00:36<00:00,  6.98it/s]\n",
      " 98%|█████████▊| 252/256 [00:36<00:00,  6.98it/s]\n",
      " 98%|█████████▊| 252/256 [00:36<00:00,  6.98it/s]\n",
      " 98%|█████████▊| 252/256 [00:36<00:00,  6.98it/s]\n",
      " 98%|█████████▊| 252/256 [00:36<00:00,  6.98it/s]\n",
      " 98%|█████████▊| 252/256 [00:36<00:00,  6.98it/s]\n",
      " 98%|█████████▊| 252/256 [00:36<00:00,  6.98it/s]\n",
      " 98%|█████████▊| 252/256 [00:36<00:00,  6.99it/s]\n",
      " 98%|█████████▊| 252/256 [00:36<00:00,  6.98it/s]\n",
      " 98%|█████████▊| 252/256 [00:36<00:00,  6.98it/s]\n",
      " 98%|█████████▊| 252/256 [00:36<00:00,  6.98it/s]\n",
      " 98%|█████████▊| 252/256 [00:36<00:00,  6.98it/s]\n",
      " 98%|█████████▊| 252/256 [00:36<00:00,  6.97it/s]\n",
      " 98%|█████████▊| 252/256 [00:36<00:00,  6.98it/s]\n",
      " 98%|█████████▊| 252/256 [00:36<00:00,  6.98it/s]\n",
      " 98%|█████████▊| 252/256 [00:36<00:00,  6.98it/s]\n",
      " 98%|█████████▊| 252/256 [00:36<00:00,  6.98it/s]\n",
      " 98%|█████████▊| 252/256 [00:36<00:00,  6.98it/s]\n",
      " 98%|█████████▊| 252/256 [00:40<00:00,  6.27it/s]\n",
      " 98%|█████████▊| 252/256 [00:38<00:00,  6.57it/s]\n",
      " 98%|█████████▊| 252/256 [00:36<00:00,  6.99it/s]\n",
      " 98%|█████████▊| 252/256 [00:36<00:00,  6.98it/s]\n",
      " 98%|█████████▊| 252/256 [00:36<00:00,  6.98it/s]\n",
      " 98%|█████████▊| 252/256 [00:36<00:00,  6.98it/s]\n",
      " 98%|█████████▊| 252/256 [00:36<00:00,  6.98it/s]\n",
      " 98%|█████████▊| 252/256 [00:36<00:00,  6.98it/s]\n",
      " 98%|█████████▊| 252/256 [00:36<00:00,  6.98it/s]\n",
      " 98%|█████████▊| 252/256 [00:36<00:00,  6.98it/s]\n",
      " 98%|█████████▊| 252/256 [00:36<00:00,  6.98it/s]\n",
      " 98%|█████████▊| 252/256 [00:36<00:00,  6.98it/s]\n",
      " 98%|█████████▊| 252/256 [00:36<00:00,  6.98it/s]\n",
      " 98%|█████████▊| 252/256 [00:36<00:00,  6.98it/s]\n",
      " 98%|█████████▊| 252/256 [00:36<00:00,  6.98it/s]\n",
      " 98%|█████████▊| 252/256 [00:36<00:00,  6.98it/s]\n",
      " 98%|█████████▊| 252/256 [00:36<00:00,  6.98it/s]\n",
      " 98%|█████████▊| 252/256 [00:36<00:00,  6.98it/s]\n",
      " 98%|█████████▊| 252/256 [00:36<00:00,  6.98it/s]\n",
      " 98%|█████████▊| 252/256 [00:36<00:00,  6.98it/s]\n",
      " 98%|█████████▊| 252/256 [00:36<00:00,  6.98it/s]\n",
      " 98%|█████████▊| 252/256 [00:36<00:00,  6.98it/s]\n",
      " 98%|█████████▊| 252/256 [00:36<00:00,  6.98it/s]\n",
      " 98%|█████████▊| 252/256 [00:36<00:00,  6.98it/s]\n",
      " 98%|█████████▊| 252/256 [00:36<00:00,  6.98it/s]\n",
      " 98%|█████████▊| 252/256 [00:36<00:00,  6.98it/s]\n",
      " 98%|█████████▊| 252/256 [00:36<00:00,  6.98it/s]\n",
      " 98%|█████████▊| 252/256 [00:36<00:00,  6.98it/s]\n",
      " 98%|█████████▊| 252/256 [00:36<00:00,  6.98it/s]\n",
      " 98%|█████████▊| 252/256 [00:36<00:00,  6.98it/s]\n",
      " 98%|█████████▊| 252/256 [00:36<00:00,  6.99it/s]\n",
      " 98%|█████████▊| 252/256 [00:36<00:00,  6.98it/s]\n",
      " 98%|█████████▊| 252/256 [00:36<00:00,  6.98it/s]\n",
      " 98%|█████████▊| 252/256 [00:36<00:00,  6.98it/s]\n",
      " 98%|█████████▊| 252/256 [00:36<00:00,  6.98it/s]\n",
      " 98%|█████████▊| 252/256 [00:36<00:00,  6.98it/s]\n",
      " 98%|█████████▊| 252/256 [00:36<00:00,  6.98it/s]\n",
      " 98%|█████████▊| 252/256 [00:36<00:00,  6.98it/s]\n",
      " 98%|█████████▊| 252/256 [00:36<00:00,  6.98it/s]\n"
     ]
    },
    {
     "name": "stderr",
     "output_type": "stream",
     "text": [
      " 98%|█████████▊| 252/256 [00:36<00:00,  6.97it/s]\n",
      " 98%|█████████▊| 252/256 [00:36<00:00,  6.98it/s]\n",
      " 98%|█████████▊| 252/256 [00:36<00:00,  6.98it/s]\n",
      " 98%|█████████▊| 252/256 [00:36<00:00,  6.98it/s]\n",
      " 98%|█████████▊| 252/256 [00:36<00:00,  6.98it/s]\n",
      " 98%|█████████▊| 252/256 [00:36<00:00,  6.98it/s]\n",
      " 98%|█████████▊| 252/256 [00:36<00:00,  6.98it/s]\n",
      " 98%|█████████▊| 252/256 [00:36<00:00,  6.98it/s]\n",
      " 98%|█████████▊| 252/256 [00:38<00:00,  6.55it/s]\n",
      " 98%|█████████▊| 252/256 [00:36<00:00,  6.98it/s]\n",
      " 98%|█████████▊| 252/256 [00:36<00:00,  6.98it/s]\n",
      " 98%|█████████▊| 252/256 [00:36<00:00,  6.98it/s]\n",
      " 98%|█████████▊| 252/256 [00:36<00:00,  6.98it/s]\n",
      " 98%|█████████▊| 252/256 [00:36<00:00,  6.98it/s]\n",
      " 98%|█████████▊| 252/256 [00:36<00:00,  6.98it/s]\n",
      " 98%|█████████▊| 252/256 [00:36<00:00,  6.98it/s]\n",
      " 98%|█████████▊| 252/256 [00:36<00:00,  6.98it/s]\n",
      " 98%|█████████▊| 252/256 [00:36<00:00,  6.98it/s]\n",
      " 98%|█████████▊| 252/256 [00:36<00:00,  6.98it/s]\n",
      " 98%|█████████▊| 252/256 [00:36<00:00,  6.98it/s]\n",
      " 98%|█████████▊| 252/256 [00:36<00:00,  6.99it/s]\n",
      " 98%|█████████▊| 252/256 [00:36<00:00,  6.98it/s]\n",
      " 98%|█████████▊| 252/256 [00:36<00:00,  6.99it/s]\n",
      " 98%|█████████▊| 252/256 [00:36<00:00,  6.98it/s]\n",
      " 98%|█████████▊| 252/256 [00:36<00:00,  6.98it/s]\n",
      " 98%|█████████▊| 252/256 [00:36<00:00,  6.98it/s]\n",
      " 98%|█████████▊| 252/256 [00:36<00:00,  6.98it/s]\n",
      " 98%|█████████▊| 252/256 [00:36<00:00,  6.98it/s]\n",
      " 98%|█████████▊| 252/256 [00:36<00:00,  6.98it/s]\n",
      " 98%|█████████▊| 252/256 [00:36<00:00,  6.98it/s]\n",
      " 98%|█████████▊| 252/256 [00:36<00:00,  6.98it/s]\n",
      " 98%|█████████▊| 252/256 [00:36<00:00,  6.98it/s]\n",
      " 98%|█████████▊| 252/256 [00:36<00:00,  6.98it/s]\n",
      " 98%|█████████▊| 252/256 [00:36<00:00,  6.98it/s]\n",
      " 98%|█████████▊| 252/256 [00:36<00:00,  6.98it/s]\n",
      " 98%|█████████▊| 252/256 [00:36<00:00,  6.98it/s]\n",
      " 98%|█████████▊| 252/256 [00:36<00:00,  6.98it/s]\n",
      " 98%|█████████▊| 252/256 [00:36<00:00,  6.98it/s]\n",
      " 98%|█████████▊| 252/256 [00:36<00:00,  6.98it/s]\n",
      " 98%|█████████▊| 252/256 [00:36<00:00,  6.98it/s]\n",
      " 98%|█████████▊| 252/256 [00:36<00:00,  6.98it/s]\n",
      " 98%|█████████▊| 252/256 [00:36<00:00,  6.98it/s]\n",
      " 98%|█████████▊| 252/256 [00:36<00:00,  6.98it/s]\n",
      " 98%|█████████▊| 252/256 [00:36<00:00,  6.98it/s]\n",
      " 98%|█████████▊| 252/256 [00:36<00:00,  6.98it/s]\n",
      " 98%|█████████▊| 252/256 [00:36<00:00,  6.98it/s]\n",
      " 98%|█████████▊| 252/256 [00:36<00:00,  6.98it/s]\n",
      " 98%|█████████▊| 252/256 [00:36<00:00,  6.98it/s]\n",
      " 98%|█████████▊| 252/256 [00:36<00:00,  6.98it/s]\n",
      " 98%|█████████▊| 252/256 [00:36<00:00,  6.98it/s]\n",
      " 98%|█████████▊| 252/256 [00:36<00:00,  6.98it/s]\n",
      " 98%|█████████▊| 252/256 [00:36<00:00,  6.98it/s]\n",
      " 98%|█████████▊| 252/256 [00:36<00:00,  6.98it/s]\n",
      " 98%|█████████▊| 252/256 [00:36<00:00,  6.98it/s]\n",
      " 98%|█████████▊| 252/256 [00:36<00:00,  6.98it/s]\n",
      " 98%|█████████▊| 252/256 [00:36<00:00,  6.98it/s]\n",
      " 98%|█████████▊| 252/256 [00:36<00:00,  6.99it/s]\n",
      " 98%|█████████▊| 252/256 [00:36<00:00,  6.98it/s]\n",
      " 98%|█████████▊| 252/256 [00:36<00:00,  6.99it/s]\n",
      " 98%|█████████▊| 252/256 [00:36<00:00,  6.98it/s]\n",
      " 98%|█████████▊| 252/256 [00:36<00:00,  6.98it/s]\n",
      " 98%|█████████▊| 252/256 [00:36<00:00,  6.98it/s]\n",
      " 98%|█████████▊| 252/256 [00:36<00:00,  6.98it/s]\n",
      " 98%|█████████▊| 252/256 [00:36<00:00,  6.98it/s]\n",
      " 98%|█████████▊| 252/256 [00:36<00:00,  6.98it/s]\n",
      " 98%|█████████▊| 252/256 [00:36<00:00,  6.98it/s]\n",
      " 98%|█████████▊| 252/256 [00:36<00:00,  6.98it/s]\n",
      " 98%|█████████▊| 252/256 [00:36<00:00,  6.98it/s]\n",
      " 98%|█████████▊| 252/256 [00:36<00:00,  6.98it/s]\n",
      " 98%|█████████▊| 252/256 [00:36<00:00,  6.98it/s]\n",
      " 98%|█████████▊| 252/256 [00:36<00:00,  6.98it/s]\n",
      " 98%|█████████▊| 252/256 [00:36<00:00,  6.98it/s]\n",
      " 98%|█████████▊| 252/256 [00:36<00:00,  6.98it/s]\n",
      " 98%|█████████▊| 252/256 [00:36<00:00,  6.98it/s]\n",
      " 98%|█████████▊| 252/256 [00:36<00:00,  6.98it/s]\n",
      " 98%|█████████▊| 252/256 [00:36<00:00,  6.98it/s]\n",
      " 98%|█████████▊| 252/256 [00:36<00:00,  6.99it/s]\n",
      " 98%|█████████▊| 252/256 [00:39<00:00,  6.37it/s]\n",
      " 98%|█████████▊| 252/256 [00:38<00:00,  6.54it/s]\n",
      " 37%|███▋      | 94/256 [00:15<00:24,  6.67it/s]"
     ]
    },
    {
     "name": "stdout",
     "output_type": "stream",
     "text": [
      "Keyboard Interruption...\n"
     ]
    }
   ],
   "source": [
    "for epoch in range(first_epoch, EPOCHS):\n",
    "    try:\n",
    "        # Training loop\n",
    "        for x_batch_train, y_batch_train in tqdm(train_set, total=256):\n",
    "            # Do step\n",
    "            loss_value = train_step(x_batch_train, y_batch_train)\n",
    "\n",
    "        # Test on validation set\n",
    "        for x_batch_val, y_batch_val in val_set:\n",
    "            test_step(x_batch_val, y_batch_val, 'val')\n",
    "\n",
    "        # Write in the summary\n",
    "        with train_summary_writer.as_default():\n",
    "            tf.summary.scalar('Train Loss', train_loss_avg.result(), step=epoch)\n",
    "            tf.summary.scalar('Train Accuracy', train_accuracy.result(), step=epoch)\n",
    "            tf.summary.scalar('Val Accuracy', val_accuracy.result(), step=epoch)\n",
    "        \n",
    "        # Reset training metrics at the end of each epoch\n",
    "        train_accuracy.reset_states()\n",
    "        val_accuracy.reset_states()\n",
    "\n",
    "        if epoch % 50 == 0:\n",
    "            tf.keras.models.save_model(model, '{}/Epoch_{}_model.hp5'.format(checkpoint_dir, str(epoch)), save_format=\"h5\")\n",
    "    \n",
    "    except KeyboardInterrupt:\n",
    "        print(\"Keyboard Interruption...\")\n",
    "        # Save model\n",
    "        tf.keras.models.save_model(model, '{}/Epoch_{}_model.hp5'.format(checkpoint_dir, str(epoch)), save_format=\"h5\")\n",
    "        break"
   ]
  },
  {
   "cell_type": "code",
   "execution_count": 20,
   "metadata": {},
   "outputs": [],
   "source": [
    "# Test on validation set\n",
    "for x_batch_test, y_batch_test in test_set:\n",
    "    test_step(x_batch_test, y_batch_test, 'test')\n",
    "test_set_acc = test_accuracy.result()"
   ]
  },
  {
   "cell_type": "code",
   "execution_count": 21,
   "metadata": {},
   "outputs": [
    {
     "data": {
      "text/plain": [
       "0.68198806"
      ]
     },
     "execution_count": 21,
     "metadata": {},
     "output_type": "execute_result"
    }
   ],
   "source": [
    "test_set_acc.numpy()"
   ]
  },
  {
   "cell_type": "code",
   "execution_count": null,
   "metadata": {},
   "outputs": [],
   "source": []
  }
 ],
 "metadata": {
  "kernelspec": {
   "display_name": "Python 3",
   "language": "python",
   "name": "python3"
  },
  "language_info": {
   "codemirror_mode": {
    "name": "ipython",
    "version": 3
   },
   "file_extension": ".py",
   "mimetype": "text/x-python",
   "name": "python",
   "nbconvert_exporter": "python",
   "pygments_lexer": "ipython3",
   "version": "3.6.9"
  }
 },
 "nbformat": 4,
 "nbformat_minor": 4
}
