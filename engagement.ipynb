{
 "cells": [
  {
   "cell_type": "code",
   "execution_count": 1,
   "metadata": {},
   "outputs": [],
   "source": [
    "import numpy as np\n",
    "import tensorflow as tf\n",
    "import tensorflow.keras.layers as kl\n",
    "import tensorflow.keras.losses\n",
    "from tensorflow.keras.applications.resnet50 import ResNet50"
   ]
  },
  {
   "cell_type": "code",
   "execution_count": 2,
   "metadata": {},
   "outputs": [],
   "source": [
    "from daisee_data_preprocessing import DataPreprocessing\n",
    "import datetime\n",
    "import os\n",
    "from tqdm import tqdm"
   ]
  },
  {
   "cell_type": "code",
   "execution_count": 3,
   "metadata": {},
   "outputs": [],
   "source": [
    "BATCH_SIZE = 32\n",
    "LR = 0.005\n",
    "EPOCHS = 100"
   ]
  },
  {
   "cell_type": "code",
   "execution_count": 4,
   "metadata": {},
   "outputs": [],
   "source": [
    "current_time = datetime.datetime.now().strftime(\"%Y%m%d-%H%M%S\")\n",
    "checkpoint_dir = 'checkpoints/'\n",
    "log_dir = 'logs/'"
   ]
  },
  {
   "cell_type": "code",
   "execution_count": 5,
   "metadata": {},
   "outputs": [
    {
     "name": "stdout",
     "output_type": "stream",
     "text": [
      "1 Physical GPUs, 1 Logical GPUs\n"
     ]
    }
   ],
   "source": [
    "### This part works for setting up space in gpu\n",
    "gpus = tf.config.experimental.list_physical_devices('GPU')\n",
    "if gpus:\n",
    "    # Restrict TensorFlow to only allocate 1GB * 1 of memory on the first GPU\n",
    "    try:\n",
    "        tf.config.experimental.set_virtual_device_configuration(\n",
    "            gpus[0],\n",
    "            [tf.config.experimental.VirtualDeviceConfiguration(memory_limit=1024 * 2)])\n",
    "        logical_gpus = tf.config.experimental.list_logical_devices('GPU')\n",
    "        print(len(gpus), \"Physical GPUs,\", len(logical_gpus), \"Logical GPUs\")\n",
    "    except RuntimeError as e:\n",
    "        # Virtual devices must be set before GPUs have been initialized\n",
    "        print(e)"
   ]
  },
  {
   "cell_type": "code",
   "execution_count": 6,
   "metadata": {},
   "outputs": [],
   "source": [
    "preprocessing_class = DataPreprocessing()"
   ]
  },
  {
   "cell_type": "code",
   "execution_count": 7,
   "metadata": {},
   "outputs": [],
   "source": [
    "# Open train set\n",
    "tfrecord_path = 'tfrecords/train.tfrecords'\n",
    "train_set = tf.data.TFRecordDataset(tfrecord_path)\n",
    "# Parse the record into tensors with map.\n",
    "train_set = train_set.map(preprocessing_class.decode)\n",
    "train_set = train_set.shuffle(1)\n",
    "train_set = train_set.batch(BATCH_SIZE)"
   ]
  },
  {
   "cell_type": "code",
   "execution_count": 8,
   "metadata": {},
   "outputs": [],
   "source": [
    "# Open test set\n",
    "tfrecord_path = 'tfrecords/test.tfrecords'\n",
    "test_set = tf.data.TFRecordDataset(tfrecord_path)\n",
    "# Parse the record into tensors with map.\n",
    "test_set = test_set.map(preprocessing_class.decode)\n",
    "test_set = test_set.shuffle(1)\n",
    "test_set = test_set.batch(BATCH_SIZE)"
   ]
  },
  {
   "cell_type": "code",
   "execution_count": 9,
   "metadata": {},
   "outputs": [],
   "source": [
    "# Open val set\n",
    "tfrecord_path = 'tfrecords/val.tfrecords'\n",
    "val_set = tf.data.TFRecordDataset(tfrecord_path)\n",
    "# Parse the record into tensors with map.\n",
    "val_set = val_set.map(preprocessing_class.decode)\n",
    "val_set = val_set.shuffle(1)\n",
    "val_set = val_set.batch(BATCH_SIZE)"
   ]
  },
  {
   "cell_type": "code",
   "execution_count": 10,
   "metadata": {},
   "outputs": [],
   "source": [
    "def create_log_dir(log_dir, checkpoint_dir):\n",
    "    if not os.path.exists(log_dir):\n",
    "        os.mkdir(log_dir)\n",
    "    if not os.path.exists(checkpoint_dir):\n",
    "        os.mkdir(checkpoint_dir)"
   ]
  },
  {
   "cell_type": "code",
   "execution_count": 11,
   "metadata": {},
   "outputs": [],
   "source": [
    "def network():\n",
    "    model = tf.keras.Sequential()\n",
    "    model.add(kl.InputLayer(input_shape=(224, 224, 3)))\n",
    "    # First conv block\n",
    "    model.add(kl.Conv2D(filters = 96, kernel_size=7, padding='same', strides=2))\n",
    "    model.add(tf.keras.layers.ReLU())\n",
    "    model.add(kl.MaxPooling2D(pool_size=(3, 3)))\n",
    "    # Second conv block\n",
    "    model.add(kl.Conv2D(filters = 256, kernel_size=5, padding='same', strides=1))\n",
    "    model.add(tf.keras.layers.ReLU())\n",
    "    model.add(kl.MaxPooling2D(pool_size=(2, 2)))\n",
    "    # Third-Fourth-Fifth conv block\n",
    "    for i in range(3):\n",
    "        model.add(kl.Conv2D(filters = 512, kernel_size=3, padding='same', strides=1))\n",
    "        model.add(tf.keras.layers.ReLU())\n",
    "    model.add(kl.MaxPooling2D(pool_size=(3, 3)))\n",
    "    # Flatten\n",
    "    model.add(kl.Flatten())\n",
    "    # First FC \n",
    "    model.add(kl.Dense(4048))\n",
    "    # Second Fc\n",
    "    model.add(kl.Dense(4048))\n",
    "    # Third FC\n",
    "    model.add(kl.Dense(4))\n",
    "    # Softmax at the end\n",
    "    model.add(kl.Softmax())\n",
    "    \n",
    "    return model"
   ]
  },
  {
   "cell_type": "code",
   "execution_count": 12,
   "metadata": {},
   "outputs": [],
   "source": [
    "model = network()"
   ]
  },
  {
   "cell_type": "code",
   "execution_count": 13,
   "metadata": {},
   "outputs": [
    {
     "data": {
      "text/plain": [
       "'\\nhttps://keras.io/guides/writing_a_training_loop_from_scratch/\\nCompile into a static graph any function that take tensors as input to apply global performance optimizations.\\n'"
      ]
     },
     "execution_count": 13,
     "metadata": {},
     "output_type": "execute_result"
    }
   ],
   "source": [
    "'''\n",
    "https://keras.io/guides/writing_a_training_loop_from_scratch/\n",
    "Compile into a static graph any function that take tensors as input to apply global performance optimizations.\n",
    "'''"
   ]
  },
  {
   "cell_type": "code",
   "execution_count": 14,
   "metadata": {},
   "outputs": [],
   "source": [
    "@tf.function\n",
    "def train_step(x, y):\n",
    "    with tf.GradientTape() as tape:\n",
    "        logits = model(x)\n",
    "        loss_value = tf.nn.sigmoid_cross_entropy_with_logits(labels=y, logits=logits)\n",
    "    grads = tape.gradient(loss_value, model.trainable_weights)\n",
    "    optimizer.apply_gradients(zip(grads, model.trainable_weights))\n",
    "    # Track progress\n",
    "    train_loss_avg.update_state(loss_value)\n",
    "    train_accuracy.update_state(y, logits)\n",
    "    return loss_value"
   ]
  },
  {
   "cell_type": "code",
   "execution_count": 15,
   "metadata": {},
   "outputs": [],
   "source": [
    "@tf.function\n",
    "def test_step(x, y, set_name):\n",
    "    logits = model(x)\n",
    "    if set_name == 'val':\n",
    "        val_accuracy.update_state(y, logits)\n",
    "    else:\n",
    "        test_accuracy.update_state(y, logits)"
   ]
  },
  {
   "cell_type": "code",
   "execution_count": 16,
   "metadata": {},
   "outputs": [],
   "source": [
    "optimizer = tf.keras.optimizers.Adam(learning_rate=LR)\n",
    "create_log_dir(log_dir, checkpoint_dir)\n",
    "train_summary_writer = tf.summary.create_file_writer(log_dir)"
   ]
  },
  {
   "cell_type": "code",
   "execution_count": 17,
   "metadata": {},
   "outputs": [],
   "source": [
    "train_loss_avg = tf.keras.metrics.Mean()\n",
    "train_accuracy = tf.keras.metrics.MeanAbsoluteError()\n",
    "val_accuracy = tf.keras.metrics.MeanAbsoluteError()\n",
    "test_accuracy = tf.keras.metrics.MeanAbsoluteError()"
   ]
  },
  {
   "cell_type": "code",
   "execution_count": null,
   "metadata": {
    "scrolled": true
   },
   "outputs": [
    {
     "name": "stderr",
     "output_type": "stream",
     "text": [
      "100%|██████████| 1517/1517 [04:09<00:00,  6.08it/s]\n",
      "100%|██████████| 1517/1517 [04:12<00:00,  6.01it/s]\n",
      "100%|██████████| 1517/1517 [04:06<00:00,  6.16it/s]\n",
      "100%|██████████| 1517/1517 [04:06<00:00,  6.16it/s]\n",
      "100%|██████████| 1517/1517 [04:06<00:00,  6.16it/s]\n",
      "100%|██████████| 1517/1517 [04:06<00:00,  6.16it/s]\n",
      "100%|██████████| 1517/1517 [04:14<00:00,  5.97it/s]\n",
      "100%|██████████| 1517/1517 [04:06<00:00,  6.15it/s]\n",
      "100%|██████████| 1517/1517 [04:06<00:00,  6.15it/s]\n",
      "100%|██████████| 1517/1517 [04:06<00:00,  6.16it/s]\n",
      "100%|██████████| 1517/1517 [04:06<00:00,  6.16it/s]\n",
      "100%|██████████| 1517/1517 [04:05<00:00,  6.18it/s]\n",
      "100%|██████████| 1517/1517 [04:05<00:00,  6.18it/s]\n",
      "100%|██████████| 1517/1517 [04:05<00:00,  6.18it/s]\n",
      "100%|██████████| 1517/1517 [04:05<00:00,  6.18it/s]\n",
      "100%|██████████| 1517/1517 [04:05<00:00,  6.18it/s]\n",
      "100%|██████████| 1517/1517 [04:05<00:00,  6.18it/s]\n",
      "100%|██████████| 1517/1517 [04:05<00:00,  6.18it/s]\n",
      "100%|██████████| 1517/1517 [04:05<00:00,  6.18it/s]\n",
      "100%|██████████| 1517/1517 [04:18<00:00,  5.88it/s]\n",
      "100%|██████████| 1517/1517 [04:18<00:00,  5.86it/s]\n",
      "100%|██████████| 1517/1517 [04:14<00:00,  5.96it/s]\n",
      "100%|██████████| 1517/1517 [04:14<00:00,  5.96it/s]\n",
      "100%|██████████| 1517/1517 [04:26<00:00,  5.68it/s]\n",
      "100%|██████████| 1517/1517 [04:20<00:00,  5.83it/s]\n",
      "100%|██████████| 1517/1517 [04:14<00:00,  5.96it/s]\n"
     ]
    }
   ],
   "source": [
    "for epoch in range(EPOCHS):\n",
    "    # Training loop\n",
    "    for x_batch_train, y_batch_train in tqdm(train_set, total=1517):\n",
    "        # Do step\n",
    "        loss_value = train_step(x_batch_train, y_batch_train)\n",
    "        \n",
    "    # Test on validation set\n",
    "    for x_batch_val, y_batch_val in val_set:\n",
    "        test_step(x_batch_val, y_batch_val, 'val')\n",
    "    \n",
    "    # Reset training metrics at the end of each epoch\n",
    "    train_acc = train_accuracy.result()\n",
    "    train_accuracy.reset_states()\n",
    "    val_acc = val_accuracy.result()\n",
    "    val_accuracy.reset_states()\n",
    "    \n",
    "    with train_summary_writer.as_default():\n",
    "        tf.summary.scalar('Train loss', train_loss_avg.result(), step=epoch)\n",
    "        tf.summary.scalar('Train MAE', train_acc, step=epoch)\n",
    "        tf.summary.scalar('Val MAE', val_acc, step=epoch)\n",
    "        \n",
    "    if epoch % 10 == 0:\n",
    "        tf.keras.models.save_model(model, '{}/Epoch_{}_model.hp5'.format(checkpoint_dir, str(epoch)), save_format=\"h5\")"
   ]
  },
  {
   "cell_type": "code",
   "execution_count": null,
   "metadata": {},
   "outputs": [],
   "source": [
    "# Test on validation set\n",
    "for x_batch_test, y_batch_test in test_set:\n",
    "    test_step(x_batch_test, y_batch_test, 'test')\n",
    "test_set_acc = test_accuracy.result()"
   ]
  }
 ],
 "metadata": {
  "kernelspec": {
   "display_name": "Python 3",
   "language": "python",
   "name": "python3"
  },
  "language_info": {
   "codemirror_mode": {
    "name": "ipython",
    "version": 3
   },
   "file_extension": ".py",
   "mimetype": "text/x-python",
   "name": "python",
   "nbconvert_exporter": "python",
   "pygments_lexer": "ipython3",
   "version": "3.6.9"
  }
 },
 "nbformat": 4,
 "nbformat_minor": 4
}
